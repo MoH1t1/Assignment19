{
  "metadata": {
    "kernelspec": {
      "name": "python",
      "display_name": "Python (Pyodide)",
      "language": "python"
    },
    "language_info": {
      "codemirror_mode": {
        "name": "python",
        "version": 3
      },
      "file_extension": ".py",
      "mimetype": "text/x-python",
      "name": "python",
      "nbconvert_exporter": "python",
      "pygments_lexer": "ipython3",
      "version": "3.8"
    }
  },
  "nbformat_minor": 4,
  "nbformat": 4,
  "cells": [
    {
      "cell_type": "code",
      "source": "# Q1. Create a Pandas Series that contains the following data: 4, 8, 15, 16, 23, and 42. Then, print the series.\n\nimport pandas as pd\ndata = pd.Series([4, 8, 15, 16, 23, 42])\nprint(data)\n",
      "metadata": {
        "trusted": true
      },
      "outputs": [
        {
          "name": "stdout",
          "text": "0     4\n1     8\n2    15\n3    16\n4    23\n5    42\ndtype: int64\n",
          "output_type": "stream"
        }
      ],
      "execution_count": 2
    },
    {
      "cell_type": "code",
      "source": "# Q2. Create a variable of list type containing 10 elements in it, and apply pandas.Series function on the variable and print it.\n\nmy_list = [1, 2, 3, 4, 5, 6, 7, 8, 9, 10]\nseries_from_list = pd.Series(my_list)\nprint(series_from_list)",
      "metadata": {
        "trusted": true
      },
      "outputs": [
        {
          "name": "stdout",
          "text": "0     1\n1     2\n2     3\n3     4\n4     5\n5     6\n6     7\n7     8\n8     9\n9    10\ndtype: int64\n",
          "output_type": "stream"
        }
      ],
      "execution_count": 3
    },
    {
      "cell_type": "code",
      "source": "# Q3. Create a Pandas DataFrame that contains the following data.\n\ndata = {\n    'Name': ['Alice', 'Bob', 'Charlie'],\n    'Age': [25, 30, 35],\n    'City': ['New York', 'Chicago', 'San Diego'],\n    'Salary': [70000, 80000, 90000]\n}\n\ndf = pd.DataFrame(data)\nprint(df)",
      "metadata": {
        "trusted": true
      },
      "outputs": [
        {
          "name": "stdout",
          "text": "      Name  Age       City  Salary\n0    Alice   25   New York   70000\n1      Bob   30    Chicago   80000\n2  Charlie   35  San Diego   90000\n",
          "output_type": "stream"
        }
      ],
      "execution_count": 4
    },
    {
      "cell_type": "code",
      "source": "# Q4. What is a ‘DataFrame’ in Pandas and how is it different from Pandas Series? Explain with an example. \n\n# A DataFrame is a 2-dimensional labeled data structure in pandas, similar to a table in a database or a spreadsheet in Excel.\n\n# Differences:\n# Dimensionality: Series is 1D, while DataFrame is 2D.\n# Structure: A DataFrame can hold multiple columns (each a Series), while a Series has only one column of data.\n# Use Case: Series is used for a single column of data, while DataFrame is for tabular data.\n\n# Example\nseries_example = pd.Series([10, 20, 30], name=\"Example Series\")\nprint(\"Series Example:\", series_example)\n\ndata = {\n    'Column1': [10, 20, 30],\n    'Column2': [40, 50, 60]\n}\ndf_example = pd.DataFrame(data)\nprint(\"\\nDataFrame Example:\")\nprint(df_example)\n",
      "metadata": {
        "trusted": true
      },
      "outputs": [
        {
          "name": "stdout",
          "text": "Series Example: 0    10\n1    20\n2    30\nName: Example Series, dtype: int64\n\nDataFrame Example:\n   Column1  Column2\n0       10       40\n1       20       50\n2       30       60\n",
          "output_type": "stream"
        }
      ],
      "execution_count": 5
    },
    {
      "cell_type": "code",
      "source": "# Q5. What are some common functions you can use to manipulate data in a Pandas DataFrame? Can you give an example of when you might use one of these functions?\n\n# Common Pandas Functions:\n# head() and tail(): View the first or last rows of the DataFrame.\n# describe(): Summarize statistics of numeric columns.\n# drop(): Remove rows/columns.\n# loc[] and iloc[]: Access data by label or index.\n# groupby(): Group data for aggregation.\n# fillna() and dropna(): Handle missing values.\n# apply(): Apply a function to each element or row.\n                     \n# Example: Suppose we want to filter and sort employees with a salary greater than 75,000.\n\nfiltered = df[df['Salary'] > 75000].sort_values(by='Salary', ascending=False)\nprint(filtered)",
      "metadata": {
        "trusted": true
      },
      "outputs": [
        {
          "name": "stdout",
          "text": "      Name  Age       City  Salary\n2  Charlie   35  San Diego   90000\n1      Bob   30    Chicago   80000\n",
          "output_type": "stream"
        }
      ],
      "execution_count": 6
    },
    {
      "cell_type": "code",
      "source": "Q6. Which of the following is mutable in nature: Series, DataFrame, Panel?\nSeries: Mutable\nDataFrame: Mutable\nPanel: Mutable\n",
      "metadata": {
        "trusted": true
      },
      "outputs": [],
      "execution_count": null
    },
    {
      "cell_type": "code",
      "source": "# Q7. Create a DataFrame using multiple Series. Explain with an example.\n\nname_series = pd.Series(['Alice', 'Bob', 'Charlie'])\nage_series = pd.Series([25, 30, 35])\ncity_series = pd.Series(['New York', 'Chicago', 'San Diego'])\n\ndata = {\n    'Name': name_series,\n    'Age': age_series,\n    'City': city_series\n}\n\ndf_from_series = pd.DataFrame(data)\nprint(df_from_series)\n",
      "metadata": {
        "trusted": true
      },
      "outputs": [
        {
          "name": "stdout",
          "text": "      Name  Age       City\n0    Alice   25   New York\n1      Bob   30    Chicago\n2  Charlie   35  San Diego\n",
          "output_type": "stream"
        }
      ],
      "execution_count": 8
    },
    {
      "cell_type": "code",
      "source": "",
      "metadata": {
        "trusted": true
      },
      "outputs": [],
      "execution_count": null
    }
  ]
}